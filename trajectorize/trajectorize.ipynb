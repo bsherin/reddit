{
 "cells": [
  {
   "cell_type": "code",
   "execution_count": 1,
   "metadata": {},
   "outputs": [],
   "source": [
    "import os\n",
    "os.chdir(\"/home/bls910/reddit/trajectorize\")"
   ]
  },
  {
   "cell_type": "code",
   "execution_count": 2,
   "metadata": {},
   "outputs": [
    {
     "name": "stdout",
     "output_type": "stream",
     "text": [
      "starting\n",
      "done with globals\n"
     ]
    }
   ],
   "source": [
    "from trajectorize_user_avg import TrajectorizeUserAvg"
   ]
  },
  {
   "cell_type": "code",
   "execution_count": 3,
   "metadata": {},
   "outputs": [],
   "source": [
    "home = \"/home/bls910\"\n",
    "subreddit = \"Minecraft\"\n",
    "uid = \"2b197_exp_4\"\n",
    "base_path=\"/projects/p32275\"\n",
    "json_path=f\"{home}/reddit/trajectorize/trajectorize_user_avg.json\"\n",
    "Tile = TrajectorizeUserAvg(json_path, subreddit, uid, base_path)"
   ]
  },
  {
   "cell_type": "code",
   "execution_count": 4,
   "metadata": {},
   "outputs": [
    {
     "name": "stdout",
     "output_type": "stream",
     "text": [
      "Pulling snapshot params\n",
      "Reading score df\n",
      "Reading user_df\n",
      "Pruning users\n",
      "Processing stage kind: num_phases_user_avg\n",
      "Processing stage kind: raw_post_count_uvg\n"
     ]
    }
   ],
   "source": [
    "Tile.render_content()"
   ]
  },
  {
   "cell_type": "code",
   "execution_count": null,
   "metadata": {},
   "outputs": [],
   "source": []
  }
 ],
 "metadata": {
  "kernelspec": {
   "display_name": "Python 3",
   "language": "python",
   "name": "python3"
  },
  "language_info": {
   "codemirror_mode": {
    "name": "ipython",
    "version": 3
   },
   "file_extension": ".py",
   "mimetype": "text/x-python",
   "name": "python",
   "nbconvert_exporter": "python",
   "pygments_lexer": "ipython3",
   "version": "3.11.7"
  }
 },
 "nbformat": 4,
 "nbformat_minor": 2
}
