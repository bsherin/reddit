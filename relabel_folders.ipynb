{
 "cells": [
  {
   "cell_type": "code",
   "execution_count": 18,
   "metadata": {},
   "outputs": [],
   "source": [
    "import pandas as pd\n",
    "import sys\n",
    "import os\n",
    "def relabel_snapshot(base_folder, subreddit, snapshot_folder):\n",
    "    param_df = pd.read_csv(f\"{snapshot_folder}/parameters.txt\", sep=\":\\t\", engine=\"python\", names=[\"key\", \"value\"], index_col=\"key\")\n",
    "    is_exp = \"threshold_in_days\" in param_df.index\n",
    "    seed = param_df.loc[\"seed\"].value\n",
    "    uid = param_df.loc[\"uid\"].value\n",
    "    padded = not int(param_df.loc[\"start_buffer\"].value) == 0\n",
    "\n",
    "    if is_exp:\n",
    "        new_folder_name = f\"{base_folder}/{subreddit}/{subreddit}_snapshots_exp_{uid}_{seed}\"\n",
    "    else:\n",
    "        new_folder_name = f\"{base_folder}/{subreddit}/{subreddit}_snapshots_{uid}_{seed}\"\n",
    "    if padded:\n",
    "        new_folder_name += \"_padded\"\n",
    "\n",
    "    os.rename(snapshot_folder, new_folder_name)"
   ]
  },
  {
   "cell_type": "code",
   "execution_count": 2,
   "metadata": {},
   "outputs": [
    {
     "data": {
      "text/plain": [
       "'/home/bls910/reddit'"
      ]
     },
     "execution_count": 2,
     "metadata": {},
     "output_type": "execute_result"
    }
   ],
   "source": [
    "os.getcwd()"
   ]
  },
  {
   "cell_type": "code",
   "execution_count": 30,
   "metadata": {},
   "outputs": [],
   "source": [
    "base_folder = \"/projects/p32275\"\n",
    "subreddit = \"Bitcoin\""
   ]
  },
  {
   "cell_type": "code",
   "execution_count": 31,
   "metadata": {},
   "outputs": [
    {
     "name": "stdout",
     "output_type": "stream",
     "text": [
      "Relabeling /projects/p32275/Bitcoin/Bitcoin_snapshots_aea86\n",
      "Relabeling /projects/p32275/Bitcoin/Bitcoin_snapshots_67863\n"
     ]
    }
   ],
   "source": [
    "for filename in os.listdir(f\"{base_folder}/{subreddit}\"):\n",
    "    if filename.startswith(f\"{subreddit}_snapshots\"):\n",
    "        snapshot_folder = f\"{base_folder}/{subreddit}/{filename}\"\n",
    "        relabel_snapshot(base_folder, subreddit, snapshot_folder)\n",
    "        print(f\"Relabeling {snapshot_folder}\")"
   ]
  },
  {
   "cell_type": "code",
   "execution_count": null,
   "metadata": {},
   "outputs": [],
   "source": [
    "uid = \"f470d\"\n",
    "snapshot_folder = f\"{base_folder}/{subreddit}/{subreddit}_snapshots_{uid}\"\n",
    "relabel_snapshot(base_folder, subreddit, snapshot_folder)"
   ]
  },
  {
   "cell_type": "code",
   "execution_count": null,
   "metadata": {},
   "outputs": [],
   "source": []
  }
 ],
 "metadata": {
  "kernelspec": {
   "display_name": "Python 3",
   "language": "python",
   "name": "python3"
  },
  "language_info": {
   "codemirror_mode": {
    "name": "ipython",
    "version": 3
   },
   "file_extension": ".py",
   "mimetype": "text/x-python",
   "name": "python",
   "nbconvert_exporter": "python",
   "pygments_lexer": "ipython3",
   "version": "3.11.7"
  }
 },
 "nbformat": 4,
 "nbformat_minor": 2
}
