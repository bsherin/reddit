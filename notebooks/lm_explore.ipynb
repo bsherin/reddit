{
 "cells": [
  {
   "cell_type": "code",
   "execution_count": 1,
   "metadata": {},
   "outputs": [],
   "source": [
    "import pandas as pd"
   ]
  },
  {
   "cell_type": "code",
   "execution_count": 4,
   "metadata": {},
   "outputs": [],
   "source": [
    "import os\n",
    "os.chdir(\"/projects/p32275\")"
   ]
  },
  {
   "cell_type": "code",
   "execution_count": 16,
   "metadata": {},
   "outputs": [],
   "source": [
    "import pickle\n",
    "f = open(\"bikewrench_lm_tests_output.pkl\", \"rb\")\n",
    "lm_tests_output = pickle.load(f)"
   ]
  },
  {
   "cell_type": "code",
   "execution_count": 17,
   "metadata": {},
   "outputs": [],
   "source": [
    "df = lm_tests_output[\"results_df\"]"
   ]
  },
  {
   "cell_type": "code",
   "execution_count": 19,
   "metadata": {},
   "outputs": [
    {
     "data": {
      "text/plain": [
       "[{'name': 'df_pickle',\n",
       "  'value': '/projects/p32275/bikewrench/bikewrench_toplevel_urls_only_prep_pc7c9ke7_pf_sent_tokenized_df.pkl'},\n",
       " {'name': 'user_df_pkl',\n",
       "  'value': '/projects/p32275/bikewrench/bikewrench_user_df.pkl'},\n",
       " {'name': 'user_base_fraction', 'value': 0.75},\n",
       " {'name': 'param_grid',\n",
       "  'value': \"{'vocab_size': [10000],  'default_discount': [0.85],  'max_discount': [0.9]}\"},\n",
       " {'name': 'base_start_week', 'value': 155},\n",
       " {'name': 'base_end_week', 'value': 207},\n",
       " {'name': 'number_of_workers', 'value': 5},\n",
       " {'name': 'bar_update_seconds', 'value': 1},\n",
       " {'name': 'chunk_size', 'value': 10000},\n",
       " {'name': 'output_file', 'value': 'bikewrench_lm_tests_output.pkl'}]"
      ]
     },
     "execution_count": 19,
     "metadata": {},
     "output_type": "execute_result"
    }
   ],
   "source": [
    "lm_tests_output[\"parameters\"]"
   ]
  },
  {
   "cell_type": "code",
   "execution_count": 11,
   "metadata": {},
   "outputs": [
    {
     "data": {
      "text/plain": [
       "dict_keys(['results_list', 'results_df', 'results_df_rounded', 'error_info', 'parameters'])"
      ]
     },
     "execution_count": 11,
     "metadata": {},
     "output_type": "execute_result"
    }
   ],
   "source": [
    "df.keys()"
   ]
  }
 ],
 "metadata": {
  "kernelspec": {
   "display_name": "Python (first-kernel)",
   "language": "python",
   "name": "first-kernel"
  },
  "language_info": {
   "codemirror_mode": {
    "name": "ipython",
    "version": 3
   },
   "file_extension": ".py",
   "mimetype": "text/x-python",
   "name": "python",
   "nbconvert_exporter": "python",
   "pygments_lexer": "ipython3",
   "version": "3.11.7"
  }
 },
 "nbformat": 4,
 "nbformat_minor": 2
}
