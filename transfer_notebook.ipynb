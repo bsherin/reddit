{
 "cells": [
  {
   "cell_type": "code",
   "execution_count": null,
   "metadata": {},
   "outputs": [],
   "source": [
    "import os"
   ]
  },
  {
   "cell_type": "markdown",
   "metadata": {},
   "source": [
    "# Transfering with globus\n",
    "\n",
    "It's possible I'll have to do `globus login` from the command line first and also follow prompts. See notes in notion."
   ]
  },
  {
   "cell_type": "code",
   "execution_count": 1,
   "metadata": {},
   "outputs": [],
   "source": [
    "import os\n",
    "def transfer_subreddit(source_folder, sub):\n",
    "    destdir = f\"/projects/p32275/{sub}\"\n",
    "    if not os.path.isdir(destdir):\n",
    "        os.mkdir(destdir)\n",
    "    os.chdir(\"/home/bls910/reddit\")\n",
    "    os.system(f\"./transfer.sh {source_folder} {sub}_submissions.zst {sub}\")\n",
    "    os.system(f\"./transfer.sh {source_folder} {sub}_comments.zst {sub}\")"
   ]
  },
  {
   "cell_type": "code",
   "execution_count": null,
   "metadata": {},
   "outputs": [],
   "source": [
    "subtext = \"personalfinance explainlikeimfive Games Fitness\"\n",
    "sublist = subtext.split()"
   ]
  },
  {
   "cell_type": "code",
   "execution_count": 3,
   "metadata": {},
   "outputs": [
    {
     "data": {
      "text/plain": [
       "['personalfinance', 'explainlikeimfive', 'games', 'Fitness']"
      ]
     },
     "execution_count": 3,
     "metadata": {},
     "output_type": "execute_result"
    }
   ],
   "source": [
    "sublist"
   ]
  },
  {
   "cell_type": "code",
   "execution_count": 4,
   "metadata": {},
   "outputs": [
    {
     "name": "stdout",
     "output_type": "stream",
     "text": [
      "Message: The transfer has been accepted and a task has been created and queued for execution\n",
      "Task ID: 059824d2-96f7-11ef-b8c4-45f0422a3ca5\n",
      "Message: The transfer has been accepted and a task has been created and queued for execution\n",
      "Task ID: 07706152-96f7-11ef-a34d-7d4d28c319e4\n",
      "Message: The transfer has been accepted and a task has been created and queued for execution\n",
      "Task ID: 08cff080-96f7-11ef-94e0-afe3639840c7\n",
      "Message: The transfer has been accepted and a task has been created and queued for execution\n",
      "Task ID: 0a00259c-96f7-11ef-b8c4-45f0422a3ca5\n",
      "Message: The transfer has been accepted and a task has been created and queued for execution\n",
      "Task ID: 0a642be7-96f7-11ef-a34d-7d4d28c319e4\n",
      "Message: The transfer has been accepted and a task has been created and queued for execution\n",
      "Task ID: 0bc80516-96f7-11ef-b8c4-45f0422a3ca5\n",
      "Message: The transfer has been accepted and a task has been created and queued for execution\n",
      "Task ID: 0ca354b8-96f7-11ef-94e0-afe3639840c7\n",
      "Message: The transfer has been accepted and a task has been created and queued for execution\n",
      "Task ID: 0d9e5fa2-96f7-11ef-b8c4-45f0422a3ca5\n"
     ]
    }
   ],
   "source": [
    "for sub in sublist:\n",
    "    transfer_subreddit(\"subreddits2\", sub)"
   ]
  },
  {
   "cell_type": "code",
   "execution_count": 5,
   "metadata": {},
   "outputs": [
    {
     "name": "stdout",
     "output_type": "stream",
     "text": [
      "Message: The transfer has been accepted and a task has been created and queued for execution\n",
      "Task ID: 4f464612-96f8-11ef-b8c4-45f0422a3ca5\n",
      "Message: The transfer has been accepted and a task has been created and queued for execution\n",
      "Task ID: 50bc1de6-96f8-11ef-94e0-afe3639840c7\n"
     ]
    }
   ],
   "source": [
    "transfer_subreddit(\"uploaded\", \"games\")"
   ]
  },
  {
   "cell_type": "markdown",
   "metadata": {},
   "source": []
  },
  {
   "cell_type": "markdown",
   "metadata": {
    "jp-MarkdownHeadingCollapsed": true
   },
   "source": [
    "# Trying to do preprocessing from here\n",
    "\n",
    "The functions blow perhaps work, but generate some conda errors. \n",
    "Also, now I have a preprocess_sequence script that I should use."
   ]
  },
  {
   "cell_type": "code",
   "execution_count": null,
   "metadata": {},
   "outputs": [],
   "source": [
    "other_subs = [\"Rainbow6\", \"dnd_next\"]"
   ]
  },
  {
   "cell_type": "code",
   "execution_count": null,
   "metadata": {},
   "outputs": [],
   "source": [
    "def preprocess_sub(sub):\n",
    "    os.chdir(\"/home/bls910/reddit/preprocess\")\n",
    "    os.system(f\"./preprocess.sh {sub}\")\n",
    "\n",
    "# preprocess job has to finish before running this\n",
    "def preprocess_sub_exp(sub):\n",
    "    os.chdir(\"/home/bls910/reddit/preprocess_exp\")\n",
    "    os.system(f\"./preprocess_exp.sh {sub}\")"
   ]
  },
  {
   "cell_type": "code",
   "execution_count": null,
   "metadata": {},
   "outputs": [],
   "source": [
    "preprocess_sub(\"Rainbow6\")"
   ]
  },
  {
   "cell_type": "code",
   "execution_count": null,
   "metadata": {},
   "outputs": [],
   "source": [
    "preprocess_sub_exp(\"Rainbow6\")"
   ]
  },
  {
   "cell_type": "code",
   "execution_count": null,
   "metadata": {},
   "outputs": [],
   "source": []
  }
 ],
 "metadata": {
  "kernelspec": {
   "display_name": "Python 3",
   "language": "python",
   "name": "python3"
  },
  "language_info": {
   "codemirror_mode": {
    "name": "ipython",
    "version": 3
   },
   "file_extension": ".py",
   "mimetype": "text/x-python",
   "name": "python",
   "nbconvert_exporter": "python",
   "pygments_lexer": "ipython3",
   "version": "3.11.7"
  }
 },
 "nbformat": 4,
 "nbformat_minor": 4
}
