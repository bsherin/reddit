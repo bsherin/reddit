{
 "cells": [
  {
   "cell_type": "code",
   "execution_count": null,
   "metadata": {},
   "outputs": [],
   "source": [
    "import os"
   ]
  },
  {
   "cell_type": "markdown",
   "metadata": {},
   "source": [
    "# Transfering with globus\n",
    "\n",
    "It's possible I'll have to do `globus login` from the command line first and also follow prompts. See notes in notion."
   ]
  },
  {
   "cell_type": "code",
   "execution_count": null,
   "metadata": {},
   "outputs": [],
   "source": [
    "import os\n",
    "def transfer_subreddit(source_folder, sub):\n",
    "    destdir = f\"/projects/p32275/{sub}\"\n",
    "    if not os.path.isdir(destdir):\n",
    "        os.mkdir(destdir)\n",
    "    os.chdir(\"/home/bls910/reddit\")\n",
    "    os.system(f\"./transfer.sh {source_folder} {sub}_submissions.zst {sub}\")\n",
    "    os.system(f\"./transfer.sh {source_folder} {sub}_comments.zst {sub}\")"
   ]
  },
  {
   "cell_type": "code",
   "execution_count": null,
   "metadata": {},
   "outputs": [],
   "source": [
    "subtext = \"ffxiv Overwatch GlobalOffensive pathofexile Genshin_Impact\"\n",
    "sublist = subtext.split()"
   ]
  },
  {
   "cell_type": "code",
   "execution_count": null,
   "metadata": {},
   "outputs": [],
   "source": [
    "sublist"
   ]
  },
  {
   "cell_type": "code",
   "execution_count": null,
   "metadata": {},
   "outputs": [],
   "source": [
    "for sub in sublist:\n",
    "    transfer_subreddit(\"subreddits2\", sub)"
   ]
  },
  {
   "cell_type": "code",
   "execution_count": null,
   "metadata": {},
   "outputs": [],
   "source": [
    "transfer_subreddit(\"uploaded\", \"apexlegends\")"
   ]
  },
  {
   "cell_type": "markdown",
   "metadata": {
    "jp-MarkdownHeadingCollapsed": true
   },
   "source": [
    "# Trying to do preprocessing from here\n",
    "\n",
    "The functions blow perhaps work, but generate some conda errors. \n",
    "Also, now I have a preprocess_sequence script that I should use."
   ]
  },
  {
   "cell_type": "code",
   "execution_count": null,
   "metadata": {},
   "outputs": [],
   "source": [
    "other_subs = [\"Rainbow6\", \"dnd_next\"]"
   ]
  },
  {
   "cell_type": "code",
   "execution_count": null,
   "metadata": {},
   "outputs": [],
   "source": [
    "def preprocess_sub(sub):\n",
    "    os.chdir(\"/home/bls910/reddit/preprocess\")\n",
    "    os.system(f\"./preprocess.sh {sub}\")\n",
    "\n",
    "# preprocess job has to finish before running this\n",
    "def preprocess_sub_exp(sub):\n",
    "    os.chdir(\"/home/bls910/reddit/preprocess_exp\")\n",
    "    os.system(f\"./preprocess_exp.sh {sub}\")"
   ]
  },
  {
   "cell_type": "code",
   "execution_count": null,
   "metadata": {},
   "outputs": [],
   "source": [
    "preprocess_sub(\"Rainbow6\")"
   ]
  },
  {
   "cell_type": "code",
   "execution_count": null,
   "metadata": {},
   "outputs": [],
   "source": [
    "preprocess_sub_exp(\"Rainbow6\")"
   ]
  },
  {
   "cell_type": "code",
   "execution_count": null,
   "metadata": {},
   "outputs": [],
   "source": []
  }
 ],
 "metadata": {
  "kernelspec": {
   "display_name": "Python (first-kernel)",
   "language": "python",
   "name": "first-kernel"
  },
  "language_info": {
   "codemirror_mode": {
    "name": "ipython",
    "version": 3
   },
   "file_extension": ".py",
   "mimetype": "text/x-python",
   "name": "python",
   "nbconvert_exporter": "python",
   "pygments_lexer": "ipython3",
   "version": "3.11.7"
  }
 },
 "nbformat": 4,
 "nbformat_minor": 4
}
